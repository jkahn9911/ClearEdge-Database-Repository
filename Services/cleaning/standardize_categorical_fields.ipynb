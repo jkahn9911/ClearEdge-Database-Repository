{
 "cells": [
  {
   "cell_type": "markdown",
   "id": "potential-qatar",
   "metadata": {},
   "source": [
    "#  Better Categories for Level, Category and Tiers for Suppliers"
   ]
  },
  {
   "cell_type": "code",
   "execution_count": 1,
   "id": "responsible-teens",
   "metadata": {},
   "outputs": [],
   "source": [
    "import numpy as np\n",
    "import pandas as pd\n",
    "import os\n",
    "import sys\n",
    "\n",
    "home_dir = os.path.dirname(os.path.dirname(os.getcwd()))\n",
    "sys.path.insert(0, home_dir)\n",
    "from util import db, nlp"
   ]
  },
  {
   "cell_type": "code",
   "execution_count": 26,
   "id": "aggressive-shadow",
   "metadata": {},
   "outputs": [],
   "source": [
    "import difflib\n",
    "\n",
    "from fuzzywuzzy import process\n",
    "\n",
    "from fuzzywuzzy import fuzz"
   ]
  },
  {
   "cell_type": "code",
   "execution_count": 172,
   "id": "front-relay",
   "metadata": {},
   "outputs": [],
   "source": [
    "import pickle"
   ]
  },
  {
   "cell_type": "markdown",
   "id": "working-librarian",
   "metadata": {},
   "source": [
    "_Keep Track of manually labelled Tiers, Categories, etc_ <br>\n",
    "https://theedge.sharepoint.com/:x:/r/sites/at/_layouts/15/Doc.aspx?sourcedoc=%7BD70B3C31-42D9-4DF5-B4D9-FFD47E732E8D%7D&file=PowerBI%20Word%20Bank.xlsx&action=default&mobileredirect=true"
   ]
  },
  {
   "cell_type": "markdown",
   "id": "stylish-elements",
   "metadata": {},
   "source": [
    "## Supplier Tiers"
   ]
  },
  {
   "cell_type": "code",
   "execution_count": 49,
   "id": "bored-cinema",
   "metadata": {},
   "outputs": [],
   "source": [
    "conn = db.open_conn(is_prod=True)"
   ]
  },
  {
   "cell_type": "code",
   "execution_count": 2,
   "id": "premium-presence",
   "metadata": {},
   "outputs": [],
   "source": [
    "v_services = db.get_table_pd(f\"SELECT * FROM v_Services\", conn)\n",
    "accounts = db.get_table_pd('SELECT * FROM SFDC.Account', conn)"
   ]
  },
  {
   "cell_type": "code",
   "execution_count": 68,
   "id": "tender-questionnaire",
   "metadata": {},
   "outputs": [],
   "source": [
    "v_services.to_csv('v_services.csv', index=False)"
   ]
  },
  {
   "cell_type": "markdown",
   "id": "compliant-challenge",
   "metadata": {},
   "source": [
    "### Matching suppliers to Salesforce account information"
   ]
  },
  {
   "cell_type": "code",
   "execution_count": 62,
   "id": "sound-starter",
   "metadata": {},
   "outputs": [],
   "source": [
    "suppliers = pd.DataFrame(data = list(set(v_services['service provider'].str.lower())), columns = ['supplier'])"
   ]
  },
  {
   "cell_type": "code",
   "execution_count": 70,
   "id": "secondary-register",
   "metadata": {},
   "outputs": [],
   "source": [
    "accounts.name = accounts.name.str.lower()"
   ]
  },
  {
   "cell_type": "markdown",
   "id": "signed-forge",
   "metadata": {},
   "source": [
    "suppliers['matches_dl'] = suppliers.supplier.apply(lambda x: difflib.get_close_matches(x, accounts.name))\n",
    "\n",
    "suppliers['matches_fuzz'] = suppliers.supplier.apply(lambda x: [r[0] for r in process.extract(x, accounts.name.tolist(), limit=3)])\n",
    "\n",
    "suppliers['matches_token_set'] = suppliers.supplier.apply(lambda x: [r[0] for r in process.extract(x, accounts.name.tolist(), limit=3, scorer=fuzz.token_set_ratio)])\n",
    "\n",
    "suppliers['matches_partial_ratio'] = suppliers.supplier.apply(lambda x: [r[0] for r in process.extract(x, accounts.name.tolist(), limit=3, scorer=fuzz.partial_ratio)])"
   ]
  },
  {
   "cell_type": "code",
   "execution_count": 173,
   "id": "consistent-colorado",
   "metadata": {},
   "outputs": [],
   "source": [
    "with open('unique_suppliers.p', 'wb') as fh:\n",
    "   pickle.dump(suppliers, fh)"
   ]
  },
  {
   "cell_type": "code",
   "execution_count": 174,
   "id": "induced-thunder",
   "metadata": {},
   "outputs": [],
   "source": [
    "#pd.pickle"
   ]
  },
  {
   "cell_type": "code",
   "execution_count": 164,
   "id": "exotic-counter",
   "metadata": {},
   "outputs": [
    {
     "data": {
      "text/plain": [
       "2746                                    harvard university\n",
       "2973                                    harvard bioscience\n",
       "3672                           harvard pilgrim health care\n",
       "11400    harvard business school - harvard business pub...\n",
       "Name: name, dtype: string"
      ]
     },
     "execution_count": 164,
     "metadata": {},
     "output_type": "execute_result"
    }
   ],
   "source": [
    "accounts.name[['harvard' in a for a in accounts.name]]"
   ]
  },
  {
   "cell_type": "code",
   "execution_count": 169,
   "id": "perceived-sunglasses",
   "metadata": {
    "scrolled": true
   },
   "outputs": [
    {
     "data": {
      "text/html": [
       "<div>\n",
       "<style scoped>\n",
       "    .dataframe tbody tr th:only-of-type {\n",
       "        vertical-align: middle;\n",
       "    }\n",
       "\n",
       "    .dataframe tbody tr th {\n",
       "        vertical-align: top;\n",
       "    }\n",
       "\n",
       "    .dataframe thead th {\n",
       "        text-align: right;\n",
       "    }\n",
       "</style>\n",
       "<table border=\"1\" class=\"dataframe\">\n",
       "  <thead>\n",
       "    <tr style=\"text-align: right;\">\n",
       "      <th></th>\n",
       "      <th>supplier</th>\n",
       "      <th>matches_dl</th>\n",
       "      <th>matches_fuzz</th>\n",
       "      <th>matches_token_set</th>\n",
       "      <th>matches_partial_ratio</th>\n",
       "    </tr>\n",
       "  </thead>\n",
       "  <tbody>\n",
       "    <tr>\n",
       "      <th>32</th>\n",
       "      <td>harvard partners</td>\n",
       "      <td>[venator partners, artisan partners, g&amp;a partn...</td>\n",
       "      <td>[sandler o'neill &amp; partners l.p., pjt partners...</td>\n",
       "      <td>[bgc partners, noe partners, g&amp;a partners]</td>\n",
       "      <td>[gartner, g&amp;a partners, st. john and partners]</td>\n",
       "    </tr>\n",
       "  </tbody>\n",
       "</table>\n",
       "</div>"
      ],
      "text/plain": [
       "            supplier                                         matches_dl  \\\n",
       "32  harvard partners  [venator partners, artisan partners, g&a partn...   \n",
       "\n",
       "                                         matches_fuzz  \\\n",
       "32  [sandler o'neill & partners l.p., pjt partners...   \n",
       "\n",
       "                             matches_token_set  \\\n",
       "32  [bgc partners, noe partners, g&a partners]   \n",
       "\n",
       "                             matches_partial_ratio  \n",
       "32  [gartner, g&a partners, st. john and partners]  "
      ]
     },
     "execution_count": 169,
     "metadata": {},
     "output_type": "execute_result"
    }
   ],
   "source": [
    "suppliers[['harvard' in a for a in suppliers.supplier]]"
   ]
  },
  {
   "cell_type": "markdown",
   "id": "entertaining-brunei",
   "metadata": {},
   "source": [
    "### Extracting Level, Category, Service Provider, OEM Company"
   ]
  },
  {
   "cell_type": "markdown",
   "id": "final-worker",
   "metadata": {},
   "source": [
    "Get All Unique Entries for OEM, Category and Service Provider"
   ]
  },
  {
   "cell_type": "code",
   "execution_count": null,
   "id": "imported-trainer",
   "metadata": {},
   "outputs": [],
   "source": [
    "oem = [str(s).lower() for s in set(v_services['oem company'])]\n"
   ]
  },
  {
   "cell_type": "code",
   "execution_count": null,
   "id": "plain-desire",
   "metadata": {},
   "outputs": [],
   "source": [
    "cats = [str(s).lower() for s in set(v_services['category'])]"
   ]
  },
  {
   "cell_type": "code",
   "execution_count": 8,
   "id": "incoming-relaxation",
   "metadata": {},
   "outputs": [],
   "source": [
    "# nlp.write_list_csv('suppliers.csv',np.sort(np.array(v_services['service provider'].value_counts().index)))\n",
    "\n",
    "# nlp.write_list_csv('oem.csv',np.sort(np.array(v_services['oem company'].value_counts().index)))\n",
    "\n",
    "# nlp.write_list_csv('category.csv',np.sort(np.array(v_services['category'].value_counts().index)))"
   ]
  },
  {
   "cell_type": "markdown",
   "id": "blond-december",
   "metadata": {},
   "source": [
    "### Tiers 1,2 from Jake/Kevin"
   ]
  },
  {
   "cell_type": "code",
   "execution_count": 54,
   "id": "known-hungarian",
   "metadata": {},
   "outputs": [],
   "source": [
    "sup_tiered = pd.read_excel('supplier_tiers.xlsx').dropna(how='all',axis=1)"
   ]
  },
  {
   "cell_type": "code",
   "execution_count": 55,
   "id": "color-johnston",
   "metadata": {},
   "outputs": [],
   "source": [
    "sup_tiered.supplier = sup_tiered.supplier.str.lower()"
   ]
  },
  {
   "cell_type": "code",
   "execution_count": 56,
   "id": "reflected-sherman",
   "metadata": {},
   "outputs": [],
   "source": [
    "v_services['supplier'] =v_services['service provider'].str.lower()"
   ]
  },
  {
   "cell_type": "code",
   "execution_count": 57,
   "id": "muslim-vampire",
   "metadata": {},
   "outputs": [],
   "source": [
    "v_services['quote_low'] = pd.to_numeric(v_services['quoted rate low'])"
   ]
  },
  {
   "cell_type": "code",
   "execution_count": 58,
   "id": "imposed-stanford",
   "metadata": {
    "scrolled": true
   },
   "outputs": [],
   "source": [
    "co_tran = {'allegis': 'allegis global solutions',\n",
    " 'aws': 'amazon',\n",
    " 'bain':'bain & company',\n",
    " 'bcg':\"boston consulting group\",\n",
    " 'dell':'dxc',\n",
    " 'emc':'dell emc',\n",
    " 'ey':'ernst & young',\n",
    " 'hpe':'hewlett packard enterprise (hpe)',\n",
    " 'insight':'insight global',\n",
    " 'mckinsey':'mcKinsey & company',\n",
    " 'mu sigma':'mu sigma inc.',\n",
    " 'shi':'software house international - shi',\n",
    " 'tech mahindra':'tech mahindra limited',\n",
    " 'tek systems':'teksystems',\n",
    " 'wwt':'wwt (var)'}\n",
    "sup_tiered.replace(co_tran, inplace=True)"
   ]
  },
  {
   "cell_type": "code",
   "execution_count": 63,
   "id": "placed-reading",
   "metadata": {},
   "outputs": [],
   "source": [
    "sup_merged = suppliers.merge(sup_tiered, on='supplier', how='left')"
   ]
  },
  {
   "cell_type": "code",
   "execution_count": 66,
   "id": "sixth-adult",
   "metadata": {},
   "outputs": [],
   "source": [
    "sup_merged.to_csv('sup_tier_merged.csv')"
   ]
  },
  {
   "cell_type": "code",
   "execution_count": 14,
   "id": "white-affiliation",
   "metadata": {},
   "outputs": [],
   "source": [
    "sup_notier = sup_merged[sup_merged.Tier.isnull()]"
   ]
  },
  {
   "cell_type": "code",
   "execution_count": 15,
   "id": "flexible-writer",
   "metadata": {},
   "outputs": [],
   "source": [
    "cases_notier = v_services[[s in list(sup_notier.supplier) for s in v_services.supplier]].copy()"
   ]
  },
  {
   "cell_type": "markdown",
   "id": "conservative-hardware",
   "metadata": {},
   "source": [
    "### Histograms of Unalabelled Suppliers"
   ]
  },
  {
   "cell_type": "code",
   "execution_count": 16,
   "id": "phantom-broadway",
   "metadata": {},
   "outputs": [],
   "source": [
    "import matplotlib.pyplot as plt"
   ]
  },
  {
   "cell_type": "code",
   "execution_count": 17,
   "id": "infinite-split",
   "metadata": {},
   "outputs": [],
   "source": [
    "cases_notier['quote_low'] = pd.to_numeric(cases_notier['quoted rate low'])"
   ]
  },
  {
   "cell_type": "code",
   "execution_count": 18,
   "id": "acting-fountain",
   "metadata": {},
   "outputs": [
    {
     "data": {
      "text/plain": [
       "Text(0.5, 1.0, 'Quoted Rates')"
      ]
     },
     "execution_count": 18,
     "metadata": {},
     "output_type": "execute_result"
    },
    {
     "data": {
      "image/png": "[encoded data removed]",
      "text/plain": [
       "<Figure size 432x288 with 1 Axes>"
      ]
     },
     "metadata": {
      "needs_background": "light"
     },
     "output_type": "display_data"
    }
   ],
   "source": [
    "plt.hist(cases_notier['quoted rate low'],range=(0,400), bins = 50)\n",
    "plt.title('Quoted Rates')"
   ]
  },
  {
   "cell_type": "code",
   "execution_count": 23,
   "id": "micro-soldier",
   "metadata": {},
   "outputs": [],
   "source": [
    "sup_rate = cases_notier[['supplier','quote_low']]\n",
    "sup_rate_mean = sup_rate.groupby('supplier').mean()['quote_low']"
   ]
  },
  {
   "cell_type": "code",
   "execution_count": 24,
   "id": "suitable-investigator",
   "metadata": {},
   "outputs": [
    {
     "data": {
      "text/plain": [
       "Text(0.5, 1.0, 'Mean Quoted Rate for each Supplier')"
      ]
     },
     "execution_count": 24,
     "metadata": {},
     "output_type": "execute_result"
    },
    {
     "data": {
      "image/png": "[encoded data removed]",
      "text/plain": [
       "<Figure size 432x288 with 1 Axes>"
      ]
     },
     "metadata": {
      "needs_background": "light"
     },
     "output_type": "display_data"
    }
   ],
   "source": [
    "plt.hist(sup_rate_mean.values, range=(0,400),bins=40)\n",
    "plt.title('Mean Quoted Rate for each Supplier')"
   ]
  },
  {
   "cell_type": "markdown",
   "id": "ranging-transaction",
   "metadata": {},
   "source": [
    "#### Broken up by Practices"
   ]
  },
  {
   "cell_type": "code",
   "execution_count": 300,
   "id": "adapted-newsletter",
   "metadata": {},
   "outputs": [],
   "source": [
    "third_p = list(cases_notier.quote_low[cases_notier.practice == \"Third Party Labor\" ])\n",
    "prof_ser = list(cases_notier.quote_low[cases_notier.practice == \"Professional Services\" ])\n",
    "man_ser = list(cases_notier.quote_low[cases_notier.practice == \"Managed Services\" ])"
   ]
  },
  {
   "cell_type": "code",
   "execution_count": 307,
   "id": "limiting-loading",
   "metadata": {
    "scrolled": true
   },
   "outputs": [
    {
     "data": {
      "text/plain": [
       "Text(0.5, 1.0, 'Quoted Rate Hist.')"
      ]
     },
     "execution_count": 307,
     "metadata": {},
     "output_type": "execute_result"
    },
    {
     "data": {
      "image/png": "[encoded data removed]",
      "text/plain": [
       "<Figure size 432x288 with 1 Axes>"
      ]
     },
     "metadata": {
      "needs_background": "light"
     },
     "output_type": "display_data"
    }
   ],
   "source": [
    "plt.hist([prof_ser, third_p, man_ser], color=['red','blue','orange'],\n",
    "         label=['professional serv.', 'third party', 'managed serv.'],\n",
    "        range=(0,400), bins = 50,\n",
    "        histtype='step')\n",
    "plt.legend()\n",
    "plt.title('Quoted Rate Hist.')"
   ]
  },
  {
   "cell_type": "code",
   "execution_count": 334,
   "id": "periodic-arctic",
   "metadata": {},
   "outputs": [],
   "source": [
    "supplier_pract_quote = cases_notier[['supplier','practice','quote_low']].groupby(['supplier','practice']).mean()['quote_low']\n"
   ]
  },
  {
   "cell_type": "code",
   "execution_count": 342,
   "id": "religious-california",
   "metadata": {},
   "outputs": [],
   "source": [
    "sup_third = supplier_pract_quote[supplier_pract_quote.index.get_level_values('practice').isin(['Third Party Labor'])].values\n",
    "sup_prof = supplier_pract_quote[supplier_pract_quote.index.get_level_values('practice').isin(['Professional Services'])].values\n",
    "sup_man = supplier_pract_quote[supplier_pract_quote.index.get_level_values('practice').isin(['Managed Services'])].values"
   ]
  },
  {
   "cell_type": "code",
   "execution_count": 344,
   "id": "minimal-starter",
   "metadata": {},
   "outputs": [
    {
     "data": {
      "text/plain": [
       "Text(0.5, 1.0, 'Quoted Rate Hist.')"
      ]
     },
     "execution_count": 344,
     "metadata": {},
     "output_type": "execute_result"
    },
    {
     "data": {
      "image/png": "[encoded data removed]",
      "text/plain": [
       "<Figure size 432x288 with 1 Axes>"
      ]
     },
     "metadata": {
      "needs_background": "light"
     },
     "output_type": "display_data"
    }
   ],
   "source": [
    "plt.hist([sup_prof, sup_third, sup_man], color=['red','blue','orange'],\n",
    "         label=['professional serv.', 'third party', 'managed serv.'],\n",
    "        range=(0,400), bins = 50,\n",
    "        histtype='step')\n",
    "plt.legend()\n",
    "plt.title('Quoted Rate Hist.')"
   ]
  },
  {
   "cell_type": "markdown",
   "id": "tropical-brisbane",
   "metadata": {},
   "source": [
    "####  Country"
   ]
  },
  {
   "cell_type": "code",
   "execution_count": 33,
   "id": "stuffed-regulation",
   "metadata": {},
   "outputs": [],
   "source": [
    "cases_notier.country = cases_notier.country.str.lower()"
   ]
  },
  {
   "cell_type": "code",
   "execution_count": 317,
   "id": "noticed-thanks",
   "metadata": {},
   "outputs": [],
   "source": [
    "us_mask = ['usa' in c for c in cases_notier.country]\n",
    "in_mask = ['india' in c for c in cases_notier.country]\n",
    "canada_mask = ['canada' in c for c in cases_notier.country]\n",
    "other_mask = [not i and not u and not c for u,i,c in zip(us_mask,in_mask, canada_mask)]"
   ]
  },
  {
   "cell_type": "code",
   "execution_count": 318,
   "id": "national-perception",
   "metadata": {},
   "outputs": [],
   "source": [
    "us_quotes = cases_notier.quote_low[['usa' in c for c in cases_notier.country]].values\n",
    "india_quotes = cases_notier.quote_low[['india' in c for c in cases_notier.country]].values\n",
    "canada_q = cases_notier.quote_low[['canada' in c for c in cases_notier.country]].values\n",
    "other_off = cases_notier.quote_low[other_mask].values"
   ]
  },
  {
   "cell_type": "code",
   "execution_count": 321,
   "id": "hybrid-admission",
   "metadata": {
    "scrolled": true
   },
   "outputs": [
    {
     "data": {
      "text/plain": [
       "Text(0.5, 1.0, 'Quoted Rate Hist.')"
      ]
     },
     "execution_count": 321,
     "metadata": {},
     "output_type": "execute_result"
    },
    {
     "data": {
      "image/png": "[encoded data removed]",
      "text/plain": [
       "<Figure size 432x288 with 1 Axes>"
      ]
     },
     "metadata": {
      "needs_background": "light"
     },
     "output_type": "display_data"
    }
   ],
   "source": [
    "plt.hist([us_quotes, india_quotes, canada_q, other_off], color=['red','blue','orange', 'green'],\n",
    "         label=['USA', 'India', 'Canada', 'Other Offshore'],\n",
    "        range=(0,400), bins = 50,\n",
    "        histtype='step')\n",
    "plt.legend()\n",
    "plt.title('Quoted Rate Hist.')"
   ]
  },
  {
   "cell_type": "code",
   "execution_count": 34,
   "id": "compressed-split",
   "metadata": {},
   "outputs": [],
   "source": [
    "sup_country_quote = cases_notier[['supplier','country','quote_low']].groupby(['supplier','country']).mean()"
   ]
  },
  {
   "cell_type": "code",
   "execution_count": 354,
   "id": "stuck-latino",
   "metadata": {},
   "outputs": [],
   "source": [
    "us_sup_m = ['usa' in c for c in sup_country_quote.index.get_level_values('country')]\n",
    "in_sup_m = ['india' in c for c in sup_country_quote.index.get_level_values('country')]\n",
    "other_sup_m = [not i and not u  for u,i in zip(us_sup_m,in_sup_m)]"
   ]
  },
  {
   "cell_type": "code",
   "execution_count": 362,
   "id": "smooth-replica",
   "metadata": {},
   "outputs": [],
   "source": [
    "us_sup_q = sup_country_quote[us_sup_m]['quote_low'].values\n",
    "in_sup_q = sup_country_quote[in_sup_m]['quote_low'].values\n",
    "other_sup_q = sup_country_quote[other_sup_m]['quote_low'].values"
   ]
  },
  {
   "cell_type": "code",
   "execution_count": 363,
   "id": "parental-neutral",
   "metadata": {},
   "outputs": [
    {
     "data": {
      "text/plain": [
       "Text(0.5, 1.0, 'Quoted Rate Hist.')"
      ]
     },
     "execution_count": 363,
     "metadata": {},
     "output_type": "execute_result"
    },
    {
     "data": {
      "image/png": "[encoded data removed]",
      "text/plain": [
       "<Figure size 432x288 with 1 Axes>"
      ]
     },
     "metadata": {
      "needs_background": "light"
     },
     "output_type": "display_data"
    }
   ],
   "source": [
    "plt.hist([us_sup_q, in_sup_q, other_sup_q], color=['red','blue','orange'],\n",
    "         label=['USA', 'India', 'Other Offshore'],\n",
    "        range=(0,400), bins = 50,\n",
    "        histtype='step')\n",
    "plt.legend()\n",
    "plt.title('Quoted Rate Hist.')"
   ]
  },
  {
   "cell_type": "markdown",
   "id": "graphic-satin",
   "metadata": {},
   "source": [
    "## Clustering of Unlabeled Suppliers"
   ]
  },
  {
   "cell_type": "markdown",
   "id": "public-mining",
   "metadata": {},
   "source": [
    "     Clustering suppliers based on their mean quote price and country of labor"
   ]
  },
  {
   "cell_type": "markdown",
   "id": "settled-grocery",
   "metadata": {},
   "source": [
    "### Create DF with Dummy Country Variables and Normalize Rate"
   ]
  },
  {
   "cell_type": "code",
   "execution_count": 57,
   "id": "apart-universe",
   "metadata": {},
   "outputs": [],
   "source": [
    "from sklearn.preprocessing import StandardScaler"
   ]
  },
  {
   "cell_type": "code",
   "execution_count": 36,
   "id": "primary-execution",
   "metadata": {},
   "outputs": [],
   "source": [
    "us_sup_m = ['usa' in c for c in sup_country_quote.index.get_level_values('country')]\n",
    "in_sup_m = ['india' in c for c in sup_country_quote.index.get_level_values('country')]"
   ]
  },
  {
   "cell_type": "code",
   "execution_count": 48,
   "id": "knowing-genetics",
   "metadata": {},
   "outputs": [],
   "source": [
    "sup_country_quote['in_us'] = us_sup_m\n",
    "sup_country_quote['in_india'] = in_sup_m\n",
    "sup_country_quote['supplier'] = sup_country_quote.index.get_level_values('supplier')"
   ]
  },
  {
   "cell_type": "code",
   "execution_count": 54,
   "id": "located-methodology",
   "metadata": {},
   "outputs": [],
   "source": [
    "sup_country_quote.reset_index(drop=True, inplace=True)"
   ]
  },
  {
   "cell_type": "code",
   "execution_count": 63,
   "id": "occasional-marking",
   "metadata": {},
   "outputs": [
    {
     "data": {
      "text/html": [
       "<div>\n",
       "<style scoped>\n",
       "    .dataframe tbody tr th:only-of-type {\n",
       "        vertical-align: middle;\n",
       "    }\n",
       "\n",
       "    .dataframe tbody tr th {\n",
       "        vertical-align: top;\n",
       "    }\n",
       "\n",
       "    .dataframe thead th {\n",
       "        text-align: right;\n",
       "    }\n",
       "</style>\n",
       "<table border=\"1\" class=\"dataframe\">\n",
       "  <thead>\n",
       "    <tr style=\"text-align: right;\">\n",
       "      <th></th>\n",
       "      <th>quote_low</th>\n",
       "      <th>in_us</th>\n",
       "      <th>in_india</th>\n",
       "      <th>supplier</th>\n",
       "      <th>quote_scaled</th>\n",
       "    </tr>\n",
       "  </thead>\n",
       "  <tbody>\n",
       "    <tr>\n",
       "      <th>0</th>\n",
       "      <td>175.000000</td>\n",
       "      <td>True</td>\n",
       "      <td>False</td>\n",
       "      <td>accutive</td>\n",
       "      <td>0.138553</td>\n",
       "    </tr>\n",
       "    <tr>\n",
       "      <th>1</th>\n",
       "      <td>209.437500</td>\n",
       "      <td>True</td>\n",
       "      <td>False</td>\n",
       "      <td>aci worldwide</td>\n",
       "      <td>0.541394</td>\n",
       "    </tr>\n",
       "    <tr>\n",
       "      <th>2</th>\n",
       "      <td>220.000000</td>\n",
       "      <td>True</td>\n",
       "      <td>False</td>\n",
       "      <td>active cyber</td>\n",
       "      <td>0.664952</td>\n",
       "    </tr>\n",
       "    <tr>\n",
       "      <th>3</th>\n",
       "      <td>105.000000</td>\n",
       "      <td>True</td>\n",
       "      <td>False</td>\n",
       "      <td>adroit resources</td>\n",
       "      <td>-0.680289</td>\n",
       "    </tr>\n",
       "    <tr>\n",
       "      <th>4</th>\n",
       "      <td>141.426667</td>\n",
       "      <td>True</td>\n",
       "      <td>False</td>\n",
       "      <td>adt</td>\n",
       "      <td>-0.254179</td>\n",
       "    </tr>\n",
       "    <tr>\n",
       "      <th>...</th>\n",
       "      <td>...</td>\n",
       "      <td>...</td>\n",
       "      <td>...</td>\n",
       "      <td>...</td>\n",
       "      <td>...</td>\n",
       "    </tr>\n",
       "    <tr>\n",
       "      <th>520</th>\n",
       "      <td>107.666667</td>\n",
       "      <td>True</td>\n",
       "      <td>False</td>\n",
       "      <td>zentest</td>\n",
       "      <td>-0.649095</td>\n",
       "    </tr>\n",
       "    <tr>\n",
       "      <th>521</th>\n",
       "      <td>45.206897</td>\n",
       "      <td>False</td>\n",
       "      <td>False</td>\n",
       "      <td>zoolatech</td>\n",
       "      <td>-1.379734</td>\n",
       "    </tr>\n",
       "    <tr>\n",
       "      <th>522</th>\n",
       "      <td>110.206897</td>\n",
       "      <td>True</td>\n",
       "      <td>False</td>\n",
       "      <td>zoolatech</td>\n",
       "      <td>-0.619380</td>\n",
       "    </tr>\n",
       "    <tr>\n",
       "      <th>523</th>\n",
       "      <td>183.285714</td>\n",
       "      <td>False</td>\n",
       "      <td>True</td>\n",
       "      <td>zs associates</td>\n",
       "      <td>0.235477</td>\n",
       "    </tr>\n",
       "    <tr>\n",
       "      <th>524</th>\n",
       "      <td>361.500000</td>\n",
       "      <td>True</td>\n",
       "      <td>False</td>\n",
       "      <td>zs associates</td>\n",
       "      <td>2.320184</td>\n",
       "    </tr>\n",
       "  </tbody>\n",
       "</table>\n",
       "<p>525 rows × 5 columns</p>\n",
       "</div>"
      ],
      "text/plain": [
       "      quote_low  in_us  in_india          supplier  quote_scaled\n",
       "0    175.000000   True     False          accutive      0.138553\n",
       "1    209.437500   True     False     aci worldwide      0.541394\n",
       "2    220.000000   True     False      active cyber      0.664952\n",
       "3    105.000000   True     False  adroit resources     -0.680289\n",
       "4    141.426667   True     False               adt     -0.254179\n",
       "..          ...    ...       ...               ...           ...\n",
       "520  107.666667   True     False           zentest     -0.649095\n",
       "521   45.206897  False     False         zoolatech     -1.379734\n",
       "522  110.206897   True     False         zoolatech     -0.619380\n",
       "523  183.285714  False      True     zs associates      0.235477\n",
       "524  361.500000   True     False     zs associates      2.320184\n",
       "\n",
       "[525 rows x 5 columns]"
      ]
     },
     "execution_count": 63,
     "metadata": {},
     "output_type": "execute_result"
    }
   ],
   "source": [
    "sup_country_quote"
   ]
  },
  {
   "cell_type": "code",
   "execution_count": 58,
   "id": "recovered-chosen",
   "metadata": {},
   "outputs": [],
   "source": [
    "scaler = StandardScaler()"
   ]
  },
  {
   "cell_type": "code",
   "execution_count": 60,
   "id": "medical-pointer",
   "metadata": {},
   "outputs": [],
   "source": [
    "quoted_scaled =scaler.fit_transform(np.array(sup_country_quote['quote_low']).reshape(-1,1)).reshape(len(sup_country_quote))"
   ]
  },
  {
   "cell_type": "code",
   "execution_count": 62,
   "id": "prostate-footwear",
   "metadata": {},
   "outputs": [],
   "source": [
    "sup_country_quote['quote_scaled'] = quoted_scaled"
   ]
  },
  {
   "cell_type": "markdown",
   "id": "standard-drove",
   "metadata": {},
   "source": [
    "### Gaussian Mixture Models"
   ]
  },
  {
   "cell_type": "markdown",
   "id": "incorporate-italic",
   "metadata": {},
   "source": [
    "__Why some suppliers with na mean quote?__"
   ]
  },
  {
   "cell_type": "code",
   "execution_count": 86,
   "id": "sexual-protocol",
   "metadata": {},
   "outputs": [],
   "source": [
    "sup_country_quote.dropna(inplace=True)"
   ]
  },
  {
   "cell_type": "code",
   "execution_count": 90,
   "id": "framed-habitat",
   "metadata": {
    "scrolled": true
   },
   "outputs": [],
   "source": [
    "X_sup = sup_country_quote[['quote_scaled','in_us','in_india']].astype('float').values"
   ]
  },
  {
   "cell_type": "markdown",
   "id": "meaning-crown",
   "metadata": {},
   "source": [
    "#### Three Dimensions"
   ]
  },
  {
   "cell_type": "code",
   "execution_count": 91,
   "id": "relevant-sandwich",
   "metadata": {},
   "outputs": [],
   "source": [
    "X_q=sup_country_quote.quote_scaled.values\n",
    "X_us=sup_country_quote.in_us.values\n",
    "X_in=sup_country_quote.in_india.values"
   ]
  },
  {
   "cell_type": "code",
   "execution_count": 97,
   "id": "cosmetic-savings",
   "metadata": {},
   "outputs": [],
   "source": [
    "g1_mask = groups == 0\n",
    "g2_mask = groups ==1\n",
    "g3_mask = groups == 2"
   ]
  },
  {
   "cell_type": "code",
   "execution_count": 102,
   "id": "bearing-wellington",
   "metadata": {},
   "outputs": [
    {
     "data": {
      "text/plain": [
       "Text(0.5, 0, 'India')"
      ]
     },
     "execution_count": 102,
     "metadata": {},
     "output_type": "execute_result"
    },
    {
     "data": {
      "image/png": "[encoded data removed]",
      "text/plain": [
       "<Figure size 432x288 with 1 Axes>"
      ]
     },
     "metadata": {
      "needs_background": "light"
     },
     "output_type": "display_data"
    }
   ],
   "source": [
    "fig = plt.figure()\n",
    "ax = fig.add_subplot(projection='3d')\n",
    "ax.scatter(X_q[g1_mask], X_us[g1_mask], X_in[g1_mask], color = 'blue')\n",
    "ax.scatter(X_q[g2_mask], X_us[g2_mask], X_in[g2_mask], color = 'orange')\n",
    "ax.scatter(X_q[g3_mask], X_us[g3_mask], X_in[g3_mask], color='green')\n",
    "ax.set_xlabel('Rate')\n",
    "ax.set_ylabel('US Rate')\n",
    "ax.set_zlabel('India')"
   ]
  },
  {
   "cell_type": "code",
   "execution_count": 66,
   "id": "twenty-arlington",
   "metadata": {},
   "outputs": [],
   "source": [
    "from sklearn.mixture import GaussianMixture"
   ]
  },
  {
   "cell_type": "code",
   "execution_count": 77,
   "id": "pediatric-satellite",
   "metadata": {},
   "outputs": [],
   "source": [
    "gm = GaussianMixture(n_components=3, random_state=0).fit(X_sup)"
   ]
  },
  {
   "cell_type": "code",
   "execution_count": 94,
   "id": "mental-event",
   "metadata": {},
   "outputs": [],
   "source": [
    "groups = gm.predict(X_sup)"
   ]
  },
  {
   "cell_type": "markdown",
   "id": "interstate-scanning",
   "metadata": {},
   "source": [
    "#### One Dimension Cluster"
   ]
  },
  {
   "cell_type": "markdown",
   "id": "outstanding-devon",
   "metadata": {},
   "source": [
    "##### Two Clusters"
   ]
  },
  {
   "cell_type": "code",
   "execution_count": 105,
   "id": "quick-alliance",
   "metadata": {},
   "outputs": [],
   "source": [
    "gm_d1 = GaussianMixture(n_components=2, random_state=0).fit(X_q.reshape(-1,1))"
   ]
  },
  {
   "cell_type": "code",
   "execution_count": 106,
   "id": "improved-trinidad",
   "metadata": {},
   "outputs": [],
   "source": [
    "d1_groups = gm_d1.predict(X_q.reshape(-1,1))\n",
    "\n",
    "g1d1_mask = d1_groups==0\n",
    "g2d1_mask = d1_groups==1"
   ]
  },
  {
   "cell_type": "code",
   "execution_count": 110,
   "id": "precious-emphasis",
   "metadata": {
    "scrolled": true
   },
   "outputs": [
    {
     "data": {
      "text/plain": [
       "Text(0.5, 1.0, 'Hist. GMM Clustered')"
      ]
     },
     "execution_count": 110,
     "metadata": {},
     "output_type": "execute_result"
    },
    {
     "data": {
      "image/png": "[encoded data removed]",
      "text/plain": [
       "<Figure size 432x288 with 1 Axes>"
      ]
     },
     "metadata": {
      "needs_background": "light"
     },
     "output_type": "display_data"
    }
   ],
   "source": [
    "plt.hist([X_q[g1d1_mask],X_q[g2d1_mask]], color=['red','blue'],\n",
    "         label=['group1', 'group2'],\n",
    "         bins=50,\n",
    "        histtype='step')\n",
    "plt.legend()\n",
    "plt.title('Hist. GMM Clustered')"
   ]
  },
  {
   "cell_type": "markdown",
   "id": "appreciated-cartoon",
   "metadata": {},
   "source": [
    "##### Three Clusters"
   ]
  },
  {
   "cell_type": "code",
   "execution_count": 111,
   "id": "roman-bubble",
   "metadata": {},
   "outputs": [],
   "source": [
    "gm_d13 = GaussianMixture(n_components=3, random_state=0).fit(X_q.reshape(-1,1))"
   ]
  },
  {
   "cell_type": "code",
   "execution_count": 115,
   "id": "relative-liechtenstein",
   "metadata": {},
   "outputs": [],
   "source": [
    "d1_groups = gm_d13.predict(X_q.reshape(-1,1))\n",
    "\n",
    "g1d1_mask = d1_groups==0\n",
    "g2d1_mask = d1_groups==1\n",
    "g3d1_mask = d1_groups==2"
   ]
  },
  {
   "cell_type": "code",
   "execution_count": 116,
   "id": "marine-equipment",
   "metadata": {
    "scrolled": true
   },
   "outputs": [
    {
     "data": {
      "text/plain": [
       "Text(0.5, 1.0, 'Hist. GMM Clustered')"
      ]
     },
     "execution_count": 116,
     "metadata": {},
     "output_type": "execute_result"
    },
    {
     "data": {
      "image/png": "[encoded data removed]",
      "text/plain": [
       "<Figure size 432x288 with 1 Axes>"
      ]
     },
     "metadata": {
      "needs_background": "light"
     },
     "output_type": "display_data"
    }
   ],
   "source": [
    "plt.hist([X_q[g1d1_mask],X_q[g2d1_mask],X_q[g3d1_mask]], color=['red','blue', 'green'],\n",
    "         label=['group1', 'group2', 'group3'],\n",
    "         bins=50,\n",
    "        histtype='step')\n",
    "plt.legend()\n",
    "plt.title('Hist. GMM Clustered')"
   ]
  },
  {
   "cell_type": "markdown",
   "id": "deadly-heritage",
   "metadata": {},
   "source": [
    "##### Four Clusters"
   ]
  },
  {
   "cell_type": "code",
   "execution_count": 123,
   "id": "structural-awareness",
   "metadata": {},
   "outputs": [],
   "source": [
    "gm_d1 = GaussianMixture(n_components=4, random_state=0).fit(X_q.reshape(-1,1))"
   ]
  },
  {
   "cell_type": "code",
   "execution_count": 124,
   "id": "affected-williams",
   "metadata": {},
   "outputs": [],
   "source": [
    "d1_groups = gm_d1.predict(X_q.reshape(-1,1))\n",
    "\n",
    "g1d1_mask = d1_groups==0\n",
    "g2d1_mask = d1_groups==1\n",
    "g3d1_mask = d1_groups==2\n",
    "g4d1_mask = d1_groups==3"
   ]
  },
  {
   "cell_type": "code",
   "execution_count": 128,
   "id": "individual-retro",
   "metadata": {
    "scrolled": true
   },
   "outputs": [
    {
     "data": {
      "text/plain": [
       "Text(0.5, 1.0, 'Hist. GMM Clustered')"
      ]
     },
     "execution_count": 128,
     "metadata": {},
     "output_type": "execute_result"
    },
    {
     "data": {
      "image/png": "[encoded data removed]",
      "text/plain": [
       "<Figure size 432x288 with 1 Axes>"
      ]
     },
     "metadata": {
      "needs_background": "light"
     },
     "output_type": "display_data"
    }
   ],
   "source": [
    "plt.hist([X_q[g1d1_mask],X_q[g2d1_mask],X_q[g3d1_mask],X_q[g4d1_mask]], color=['red','blue', 'green', 'orange'],\n",
    "         label=['group1','group2','group3','group4'],\n",
    "         bins=50,\n",
    "        histtype='step')\n",
    "plt.legend()\n",
    "plt.title('Hist. GMM Clustered')"
   ]
  },
  {
   "cell_type": "markdown",
   "id": "premier-youth",
   "metadata": {},
   "source": [
    "## Clustering of all Suppliers"
   ]
  },
  {
   "cell_type": "code",
   "execution_count": 141,
   "id": "deadly-plant",
   "metadata": {},
   "outputs": [],
   "source": [
    "all_mean = v_services[['supplier','quote_low']].dropna().groupby('supplier').mean()"
   ]
  },
  {
   "cell_type": "code",
   "execution_count": 142,
   "id": "bigger-plasma",
   "metadata": {},
   "outputs": [],
   "source": [
    "means = all_mean['quote_low'].values\n",
    "gm4_all = GaussianMixture(n_components=4, random_state=0).fit(means.reshape(-1,1))"
   ]
  },
  {
   "cell_type": "code",
   "execution_count": 236,
   "id": "black-flexibility",
   "metadata": {},
   "outputs": [],
   "source": [
    "d1_groups = gm4_all.predict(means.reshape(-1,1))\n",
    "\n",
    "g1d1_mask = d1_groups==0\n",
    "g2d1_mask = d1_groups==1\n",
    "g3d1_mask = d1_groups==2\n",
    "g4d1_mask = d1_groups==3"
   ]
  },
  {
   "cell_type": "code",
   "execution_count": 237,
   "id": "meaningful-galaxy",
   "metadata": {
    "scrolled": false
   },
   "outputs": [
    {
     "data": {
      "text/plain": [
       "Text(0.5, 1.0, 'Hist. GMM Clustered')"
      ]
     },
     "execution_count": 237,
     "metadata": {},
     "output_type": "execute_result"
    },
    {
     "data": {
      "image/png": "[encoded data removed]",
      "text/plain": [
       "<Figure size 432x288 with 1 Axes>"
      ]
     },
     "metadata": {
      "needs_background": "light"
     },
     "output_type": "display_data"
    }
   ],
   "source": [
    "plt.hist([means[g1d1_mask],means[g2d1_mask],means[g3d1_mask],means[g4d1_mask]], color=['red','blue', 'green', 'orange'],\n",
    "         label=['group1','group2','group3','group4'],\n",
    "         bins=50,\n",
    "        histtype='step')\n",
    "plt.legend()\n",
    "plt.title('Hist. GMM Clustered')"
   ]
  },
  {
   "cell_type": "code",
   "execution_count": null,
   "id": "dated-pakistan",
   "metadata": {},
   "outputs": [],
   "source": []
  },
  {
   "cell_type": "markdown",
   "id": "chronic-daisy",
   "metadata": {},
   "source": [
    "### TFIDF of Title by Supplier"
   ]
  },
  {
   "cell_type": "code",
   "execution_count": 174,
   "id": "approximate-perfume",
   "metadata": {},
   "outputs": [],
   "source": [
    "from sklearn.feature_extraction.text import TfidfVectorizer\n",
    "tf_vec = TfidfVectorizer(max_features=1000)"
   ]
  },
  {
   "cell_type": "code",
   "execution_count": 180,
   "id": "charming-modem",
   "metadata": {},
   "outputs": [],
   "source": [
    "v_services_dropna = v_services[['supplier','full position title', 'quote_low']].dropna()"
   ]
  },
  {
   "cell_type": "code",
   "execution_count": 182,
   "id": "grateful-romance",
   "metadata": {},
   "outputs": [],
   "source": [
    "sup_position = v_services_dropna[['supplier', 'full position title']].groupby('supplier')['full position title'].apply(' '.join)"
   ]
  },
  {
   "cell_type": "code",
   "execution_count": 185,
   "id": "overhead-pittsburgh",
   "metadata": {},
   "outputs": [],
   "source": [
    "X_pos = tf_vec.fit_transform(sup_position.values)"
   ]
  },
  {
   "cell_type": "code",
   "execution_count": 232,
   "id": "aware-bedroom",
   "metadata": {
    "scrolled": true
   },
   "outputs": [
    {
     "data": {
      "text/plain": [
       "Index(['consultant', 'senior', 'engineer', 'manager', 'project', 'architect',\n",
       "       'analyst', 'lead', 'developer', 'technical', 'service', 'business',\n",
       "       'management', 'sr', 'solution'],\n",
       "      dtype='object')"
      ]
     },
     "execution_count": 232,
     "metadata": {},
     "output_type": "execute_result"
    }
   ],
   "source": [
    "pd.DataFrame(data=X_pos.todense(), columns=tf_vec.get_feature_names()).sum().sort_values(ascending=False)[0:15]"
   ]
  },
  {
   "cell_type": "code",
   "execution_count": 187,
   "id": "flexible-founder",
   "metadata": {},
   "outputs": [],
   "source": [
    "gm_pos = GaussianMixture(n_components=4, random_state=0).fit(X_pos.todense())"
   ]
  },
  {
   "cell_type": "code",
   "execution_count": 188,
   "id": "finite-sharing",
   "metadata": {},
   "outputs": [],
   "source": [
    "d1_groups = gm_pos.predict(X_pos.todense())\n",
    "\n",
    "g1d1_mask = d1_groups==0\n",
    "g2d1_mask = d1_groups==1\n",
    "g3d1_mask = d1_groups==2\n",
    "g4d1_mask = d1_groups==3"
   ]
  },
  {
   "cell_type": "code",
   "execution_count": 189,
   "id": "circular-blade",
   "metadata": {
    "scrolled": true
   },
   "outputs": [
    {
     "data": {
      "text/plain": [
       "Text(0.5, 1.0, 'Hist. GMM Clustered')"
      ]
     },
     "execution_count": 189,
     "metadata": {},
     "output_type": "execute_result"
    },
    {
     "data": {
      "image/png": "[encoded data removed]",
      "text/plain": [
       "<Figure size 432x288 with 1 Axes>"
      ]
     },
     "metadata": {
      "needs_background": "light"
     },
     "output_type": "display_data"
    }
   ],
   "source": [
    "plt.hist([means[g1d1_mask],means[g2d1_mask],means[g3d1_mask],means[g4d1_mask]], color=['red','blue', 'green', 'orange'],\n",
    "         label=['group1','group2','group3','group4'],\n",
    "         bins=50,\n",
    "        histtype='step')\n",
    "plt.legend()\n",
    "plt.title('Hist. GMM Clustered')"
   ]
  },
  {
   "cell_type": "code",
   "execution_count": 206,
   "id": "rotary-machine",
   "metadata": {},
   "outputs": [],
   "source": [
    "sup_tf_groups = pd.DataFrame({'supplier': sup_position.index, 'group':d1_groups})"
   ]
  },
  {
   "cell_type": "code",
   "execution_count": null,
   "id": "mental-yugoslavia",
   "metadata": {
    "scrolled": true
   },
   "outputs": [],
   "source": [
    "sup_tiered.merge(sup_tf_groups, on='supplier')"
   ]
  },
  {
   "cell_type": "markdown",
   "id": "contained-chance",
   "metadata": {},
   "source": [
    "#### Get Most important words for each group"
   ]
  },
  {
   "cell_type": "code",
   "execution_count": 221,
   "id": "large-module",
   "metadata": {},
   "outputs": [],
   "source": [
    "pos_tfidf = pd.DataFrame(data=X_pos.todense(), columns=tf_vec.get_feature_names())"
   ]
  },
  {
   "cell_type": "code",
   "execution_count": 226,
   "id": "level-boulder",
   "metadata": {},
   "outputs": [],
   "source": [
    "pos_tfidf_g1 = pos_tfidf[g1d1_mask]\n",
    "pos_tfidf_g2 = pos_tfidf[g2d1_mask]\n",
    "pos_tfidf_g3 = pos_tfidf[g3d1_mask]\n",
    "pos_tfidf_g4 = pos_tfidf[g4d1_mask]"
   ]
  },
  {
   "cell_type": "code",
   "execution_count": 235,
   "id": "polar-ranking",
   "metadata": {},
   "outputs": [
    {
     "data": {
      "text/plain": [
       "consultant        31.603385\n",
       "senior            13.639985\n",
       "manager           11.631057\n",
       "project            9.315778\n",
       "solution           8.326953\n",
       "architect          8.194117\n",
       "technical          6.398290\n",
       "principal          5.723508\n",
       "sr                 4.730958\n",
       "associate          4.025671\n",
       "offshore           3.500330\n",
       "lead               2.942978\n",
       "business           2.534106\n",
       "delivery           2.435411\n",
       "implementation     2.293639\n",
       "specialist         2.161546\n",
       "partner            2.111956\n",
       "director           2.101238\n",
       "engagement         2.037680\n",
       "management         1.942900\n",
       "dtype: float64"
      ]
     },
     "execution_count": 235,
     "metadata": {},
     "output_type": "execute_result"
    }
   ],
   "source": [
    "pos_tfidf_g4.sum().sort_values(ascending=False)[0:20]"
   ]
  },
  {
   "cell_type": "code",
   "execution_count": 220,
   "id": "ecological-liabilities",
   "metadata": {},
   "outputs": [],
   "source": [
    "v_services.to_csv('v_services.csv',index=False)"
   ]
  },
  {
   "cell_type": "code",
   "execution_count": null,
   "id": "lasting-trouble",
   "metadata": {},
   "outputs": [],
   "source": []
  },
  {
   "cell_type": "markdown",
   "id": "rising-discipline",
   "metadata": {},
   "source": [
    "#### Category"
   ]
  },
  {
   "cell_type": "code",
   "execution_count": 35,
   "id": "aging-modeling",
   "metadata": {},
   "outputs": [],
   "source": [
    "from sklearn.feature_extraction.text import CountVectorizer\n",
    "cv_big = CountVectorizer(ngram_range=(2,2))\n",
    "X = cv_big.fit_transform([str(c) for c in v_services['category']])"
   ]
  },
  {
   "cell_type": "code",
   "execution_count": 36,
   "id": "widespread-oxygen",
   "metadata": {},
   "outputs": [],
   "source": [
    "count_cat = pd.DataFrame(data=X.todense(),columns=cv_big.get_feature_names())"
   ]
  },
  {
   "cell_type": "code",
   "execution_count": 42,
   "id": "controlling-miniature",
   "metadata": {},
   "outputs": [],
   "source": [
    "cat_bigrams = count_cat.sum().sort_values(ascending=False)"
   ]
  },
  {
   "cell_type": "code",
   "execution_count": 60,
   "id": "boxed-swedish",
   "metadata": {
    "scrolled": true
   },
   "outputs": [],
   "source": [
    "cat_tokens = nlp.tokenize_col(v_services['category'].dropna())"
   ]
  },
  {
   "cell_type": "code",
   "execution_count": 70,
   "id": "three-concern",
   "metadata": {},
   "outputs": [],
   "source": [
    "cat_oneword = [t for t in cat_tokens if len(t) < 2 and len(t)>0]"
   ]
  },
  {
   "cell_type": "code",
   "execution_count": null,
   "id": "mechanical-incidence",
   "metadata": {
    "scrolled": true
   },
   "outputs": [],
   "source": [
    "cat_oneword_s = pd.Series([t[0] for t in cat_oneword]).value_counts()\n",
    "cat_oneword_s[cat_oneword_s>20]"
   ]
  },
  {
   "cell_type": "code",
   "execution_count": null,
   "id": "upper-numbers",
   "metadata": {},
   "outputs": [],
   "source": []
  }
 ],
 "metadata": {
  "kernelspec": {
   "display_name": "Python 3",
   "language": "python",
   "name": "python3"
  },
  "language_info": {
   "codemirror_mode": {
    "name": "ipython",
    "version": 3
   },
   "file_extension": ".py",
   "mimetype": "text/x-python",
   "name": "python",
   "nbconvert_exporter": "python",
   "pygments_lexer": "ipython3",
   "version": "3.9.2"
  },
  "toc": {
   "base_numbering": 1,
   "nav_menu": {},
   "number_sections": true,
   "sideBar": true,
   "skip_h1_title": true,
   "title_cell": "Table of Contents",
   "title_sidebar": "Contents",
   "toc_cell": false,
   "toc_position": {
    "height": "calc(100% - 180px)",
    "left": "10px",
    "top": "150px",
    "width": "165px"
   },
   "toc_section_display": true,
   "toc_window_display": true
  },
  "varInspector": {
   "cols": {
    "lenName": 16,
    "lenType": 16,
    "lenVar": 40
   },
   "kernels_config": {
    "python": {
     "delete_cmd_postfix": "",
     "delete_cmd_prefix": "del ",
     "library": "var_list.py",
     "varRefreshCmd": "print(var_dic_list())"
    },
    "r": {
     "delete_cmd_postfix": ") ",
     "delete_cmd_prefix": "rm(",
     "library": "var_list.r",
     "varRefreshCmd": "cat(var_dic_list()) "
    }
   },
   "types_to_exclude": [
    "module",
    "function",
    "builtin_function_or_method",
    "instance",
    "_Feature"
   ],
   "window_display": false
  }
 },
 "nbformat": 4,
 "nbformat_minor": 5
}
