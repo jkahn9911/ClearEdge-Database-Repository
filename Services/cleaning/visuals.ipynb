{
 "cells": [
  {
   "cell_type": "markdown",
   "id": "general-telescope",
   "metadata": {},
   "source": [
    "# Test Visuals for Power BI"
   ]
  },
  {
   "cell_type": "code",
   "execution_count": 1,
   "id": "constant-medline",
   "metadata": {},
   "outputs": [],
   "source": [
    "import numpy as np\n",
    "import pandas\n",
    "import seaborn as sns\n",
    "import matplotlib\n",
    "import csv"
   ]
  },
  {
   "cell_type": "markdown",
   "id": "seasonal-albuquerque",
   "metadata": {},
   "source": [
    "## Get tables from DB"
   ]
  },
  {
   "cell_type": "code",
   "execution_count": 3,
   "id": "popular-orleans",
   "metadata": {},
   "outputs": [],
   "source": [
    "from util.db import *\n",
    "laboredge = get_table_pd(\"SELECT * FROM import.tempServices\")\n",
    "\n",
    "# case_supplier = get_table_pd(\"SELECT s.Name, cc.Case_Contract_Text__c, cc.Id FROM SFDC.Case_Contract AS cc FULL JOIN SFDC.Supplier AS s ON (s.Id = cc.Supplier__c)\")\n",
    "# case_supplier.rename(columns = {'name':'supplier_name'}, inplace=True)"
   ]
  },
  {
   "cell_type": "markdown",
   "id": "expected-luther",
   "metadata": {},
   "source": [
    "### merge to get supplier names"
   ]
  },
  {
   "cell_type": "code",
   "execution_count": 4,
   "id": "czech-flower",
   "metadata": {},
   "outputs": [],
   "source": [
    "#dataset = laboredge.merge(case_supplier, left_on=\"object_x_id\", right_on=\"id\", how=\"left\")\n",
    "dataset = laboredge"
   ]
  },
  {
   "cell_type": "code",
   "execution_count": 5,
   "id": "integrated-stick",
   "metadata": {},
   "outputs": [
    {
     "data": {
      "text/plain": [
       "Index(['idxdntneed', 'input_date', 'object_x_id', 'oem_company',\n",
       "       'product_category', 'level', 'position_title', 'hours',\n",
       "       'years_exp_high', 'years_exp_low', 'quoted_rate_high',\n",
       "       'quoted_rate_low', 'cep_provided_rate_high', 'cep_provided_rate_low',\n",
       "       'deal_total', 'country', 'city_state', 'currency_notes',\n",
       "       'document_name', 'database_practice'],\n",
       "      dtype='object')"
      ]
     },
     "execution_count": 5,
     "metadata": {},
     "output_type": "execute_result"
    }
   ],
   "source": [
    "dataset.columns"
   ]
  },
  {
   "cell_type": "markdown",
   "id": "retained-vault",
   "metadata": {},
   "source": [
    "### get unique case nums for rows with quoted low and quoted high"
   ]
  },
  {
   "cell_type": "code",
   "execution_count": 122,
   "id": "naughty-speaker",
   "metadata": {},
   "outputs": [],
   "source": [
    "from util.nlp import write_list_csv"
   ]
  },
  {
   "cell_type": "code",
   "execution_count": 131,
   "id": "annual-virtue",
   "metadata": {},
   "outputs": [],
   "source": [
    "laborxl = pandas.read_excel(r\"C:\\Users\\RossMarino\\Downloads\\le.xlsx\", header=1)"
   ]
  },
  {
   "cell_type": "code",
   "execution_count": 133,
   "id": "integral-smile",
   "metadata": {},
   "outputs": [
    {
     "data": {
      "text/plain": [
       "Index(['Deal Date', 'Case #', 'Client', 'Service Provider', 'OEM Company',\n",
       "       'Product/Category', 'Level', 'Position Title', 'Hours', 'Low', 'High',\n",
       "       'Country', 'City/State', 'Low.1', 'High.1', 'Low.2', 'High.2',\n",
       "       'Deal Total', 'Currency Notes', 'Document Name', 'Unnamed: 20'],\n",
       "      dtype='object')"
      ]
     },
     "execution_count": 133,
     "metadata": {},
     "output_type": "execute_result"
    }
   ],
   "source": [
    "laborxl.columns"
   ]
  },
  {
   "cell_type": "code",
   "execution_count": 136,
   "id": "loving-pepper",
   "metadata": {
    "scrolled": true
   },
   "outputs": [
    {
     "data": {
      "text/plain": [
       "110"
      ]
     },
     "execution_count": 136,
     "metadata": {},
     "output_type": "execute_result"
    }
   ],
   "source": [
    "high_cases = list(set(laborxl[laborxl['High.1'].notnull()]['Case #']))\n",
    "len(high_cases)"
   ]
  },
  {
   "cell_type": "code",
   "execution_count": 137,
   "id": "adjustable-sight",
   "metadata": {},
   "outputs": [],
   "source": [
    "write_list_csv('cases_high.csv',high_cases)"
   ]
  },
  {
   "cell_type": "markdown",
   "id": "mental-velvet",
   "metadata": {},
   "source": [
    "### rename col for Power BI"
   ]
  },
  {
   "cell_type": "code",
   "execution_count": 7,
   "id": "taken-hybrid",
   "metadata": {},
   "outputs": [],
   "source": [
    "laboredge.rename(columns={'quoted_rate_low':'Quoted Rate Low',\n",
    "               'quoted_rate_high':'Quoted Rate High',\n",
    "               'cep_provided_rate_low': 'CEP Provided Rate Low',\n",
    "               'cep_provided_rate_high':'CEP Provided Rate High',\n",
    "               'hours':'Hours',\n",
    "               'supplier_name':'Service Provider'}, inplace=True)"
   ]
  },
  {
   "cell_type": "markdown",
   "id": "forward-score",
   "metadata": {},
   "source": [
    "## Box and Whisker"
   ]
  },
  {
   "cell_type": "markdown",
   "id": "authentic-contribution",
   "metadata": {},
   "source": [
    "settings from Power BI"
   ]
  },
  {
   "cell_type": "code",
   "execution_count": 41,
   "id": "close-college",
   "metadata": {},
   "outputs": [],
   "source": [
    "import uuid"
   ]
  },
  {
   "cell_type": "code",
   "execution_count": 39,
   "id": "coupled-algorithm",
   "metadata": {
    "scrolled": true
   },
   "outputs": [
    {
     "data": {
      "text/plain": [
       "<Figure size 400x300 with 0 Axes>"
      ]
     },
     "metadata": {},
     "output_type": "display_data"
    }
   ],
   "source": [
    "matplotlib.pyplot.figure(figsize=(5.55555555555556,4.16666666666667), dpi=72)\n",
    "matplotlib.pyplot.show = lambda args=None,kw=None: matplotlib.pyplot.savefig(str(uuid.uuid1()))"
   ]
  },
  {
   "cell_type": "markdown",
   "id": "starting-basics",
   "metadata": {},
   "source": [
    "Subset Data that is going to be used in Visual"
   ]
  },
  {
   "cell_type": "code",
   "execution_count": 46,
   "id": "competitive-providence",
   "metadata": {},
   "outputs": [],
   "source": [
    "dataset = laboredge[['Quoted Rate Low','Quoted Rate High', 'CEP Provided Rate Low','CEP Provided Rate High']].astype('float')"
   ]
  },
  {
   "cell_type": "markdown",
   "id": "pleasant-momentum",
   "metadata": {},
   "source": [
    "### Copy and Paste below"
   ]
  },
  {
   "cell_type": "markdown",
   "id": "balanced-station",
   "metadata": {},
   "source": [
    "Test when one column all NA's\n",
    "\n",
    "#dataset = dataset[dataset['CEP Provided Rate High'].isnull()].sample(n=1000, random_state=42)"
   ]
  },
  {
   "cell_type": "code",
   "execution_count": 51,
   "id": "pretty-mentor",
   "metadata": {},
   "outputs": [
    {
     "data": {
      "image/png": "[encoded data removed]",
      "text/plain": [
       "<Figure size 432x288 with 1 Axes>"
      ]
     },
     "metadata": {
      "needs_background": "light"
     },
     "output_type": "display_data"
    }
   ],
   "source": [
    "import numpy as np\n",
    "import seaborn as sns\n",
    "\n",
    "dataset.dropna(axis=1,how='all',inplace=True)\n",
    "dataset.rename(columns={'Quoted Rate Low':'Quoted Low',\n",
    "                       'Quoted Rate High':'Quoted High',\n",
    "                       'CEP Provided Rate Low': 'CEP Low',\n",
    "                       'CEP Provided Rate High':'CEP High'}, inplace=True)\n",
    "##################################################\n",
    "# Reformat rates to variable/value\n",
    "# Calculate quantiles for labelling\n",
    "rates_melted = pandas.melt(dataset, \n",
    "                       value_vars=dataset.columns)\n",
    "rates_melted = rates_melted[rates_melted.value.notnull()]\n",
    "\n",
    "quants = dataset.quantile([0.25,0.5,0.75])\n",
    "\n",
    "##################################################\n",
    "# Set options for the figure\n",
    "mycolors = ['#ffd9c4','#fcaf83','#a8c6db','#6ea4ca'] # light orange, orange, light blue, blue (of CEP.com)\n",
    "max_x = np.max(np.max(quants))*2.75\n",
    "sns.set_context('notebook',font_scale=2)\n",
    "matplotlib.pyplot.xlim(0,max_x)\n",
    "\n",
    "##################################################\n",
    "# Draw graph\n",
    "bp = sns.boxplot(x=\"value\", y=\"variable\", data=rates_melted, palette=mycolors)\n",
    "\n",
    "#Label using quants\n",
    "i = 0\n",
    "for col in quants.columns:\n",
    "    for qu in quants[col]:\n",
    "        matplotlib.pyplot.text(x = qu+2, y = i-0.1, s = \"{:.0f}\".format(qu))\n",
    "    i += 1\n",
    "\n",
    "matplotlib.pyplot.title('Rates', fontsize='large')\n",
    "matplotlib.pyplot.xlabel('Dollars per Hour')\n",
    "matplotlib.pyplot.ylabel('')\n",
    "matplotlib.pyplot.show()"
   ]
  },
  {
   "cell_type": "markdown",
   "id": "aware-detective",
   "metadata": {},
   "source": [
    "## Rate by Hours"
   ]
  },
  {
   "cell_type": "code",
   "execution_count": 15,
   "id": "advanced-gauge",
   "metadata": {},
   "outputs": [],
   "source": [
    "labor_nahours=laboredge[laboredge.hours.notnull() & laboredge.quoted_rate_low.notnull()]"
   ]
  },
  {
   "cell_type": "code",
   "execution_count": 17,
   "id": "prescribed-massage",
   "metadata": {},
   "outputs": [
    {
     "data": {
      "text/plain": [
       "<matplotlib.collections.PathCollection at 0x1d0cebb1550>"
      ]
     },
     "execution_count": 17,
     "metadata": {},
     "output_type": "execute_result"
    },
    {
     "data": {
      "image/png": "[encoded data removed]",
      "text/plain": [
       "<Figure size 432x288 with 1 Axes>"
      ]
     },
     "metadata": {
      "needs_background": "light"
     },
     "output_type": "display_data"
    }
   ],
   "source": [
    "matplotlib.pyplot.scatter(np.array(labor_nahours.hours),np.array(labor_nahours.quoted_rate_low))"
   ]
  },
  {
   "cell_type": "markdown",
   "id": "deadly-madison",
   "metadata": {},
   "source": [
    "## IQR Mean"
   ]
  },
  {
   "cell_type": "code",
   "execution_count": 256,
   "id": "olive-airline",
   "metadata": {},
   "outputs": [],
   "source": [
    "means = [] \n",
    "for col in quants.columns:\n",
    "    temp_mask = (dataset[col]>quants[col][0.25]) & (dataset[col]<quants[col][0.75])\n",
    "    mn = np.mean(dataset[col][temp_mask])\n",
    "    means.append(['{:.2f}'.format(mn)])"
   ]
  },
  {
   "cell_type": "code",
   "execution_count": 264,
   "id": "plastic-juice",
   "metadata": {},
   "outputs": [
    {
     "data": {
      "text/plain": [
       "<matplotlib.table.Table at 0x1d4baeaceb0>"
      ]
     },
     "execution_count": 264,
     "metadata": {},
     "output_type": "execute_result"
    },
    {
     "data": {
      "image/png": "[encoded data removed]",
      "text/plain": [
       "<Figure size 640x480 with 1 Axes>"
      ]
     },
     "metadata": {},
     "output_type": "display_data"
    }
   ],
   "source": [
    "fig, ax = matplotlib.pyplot.subplots() \n",
    "\n",
    "ax.set_axis_off()\n",
    "ax.set_title('IQR Mean')\n",
    "ax.table(cellText=means, rowLabels=list(quants.columns), loc='center')\n"
   ]
  },
  {
   "cell_type": "markdown",
   "id": "sunset-painting",
   "metadata": {},
   "source": [
    "## Table Visual "
   ]
  },
  {
   "cell_type": "code",
   "execution_count": 194,
   "id": "living-party",
   "metadata": {},
   "outputs": [],
   "source": [
    "matplotlib.rcParams.update(matplotlib.rcParamsDefault)"
   ]
  },
  {
   "cell_type": "code",
   "execution_count": 165,
   "id": "canadian-malta",
   "metadata": {},
   "outputs": [],
   "source": [
    "rate_sum = dataset[['Quoted Rate Low','Quoted Rate High', 'CEP Provided Rate Low','CEP Provided Rate High']].describe()"
   ]
  },
  {
   "cell_type": "code",
   "execution_count": 174,
   "id": "transparent-kazakhstan",
   "metadata": {},
   "outputs": [
    {
     "data": {
      "text/plain": [
       "Quoted Rate Low           23538.0\n",
       "Quoted Rate High           2220.0\n",
       "CEP Provided Rate Low     15775.0\n",
       "CEP Provided Rate High    15162.0\n",
       "Name: count, dtype: float64"
      ]
     },
     "execution_count": 174,
     "metadata": {},
     "output_type": "execute_result"
    }
   ],
   "source": [
    "col_names = list(rate_sum.columns)\n",
    "row_names = list(rate_sum.index)"
   ]
  },
  {
   "cell_type": "code",
   "execution_count": 187,
   "id": "regulated-cycling",
   "metadata": {},
   "outputs": [],
   "source": [
    "cell_nums = []\n",
    "for i,r in rate_sum.iterrows():\n",
    "    temp_a = []\n",
    "    for ea in r:\n",
    "        temp_a.append(\"{:.2f}\".format(ea))\n",
    "    cell_nums.append(list(temp_a))\n"
   ]
  },
  {
   "cell_type": "code",
   "execution_count": 254,
   "id": "dirty-street",
   "metadata": {},
   "outputs": [
    {
     "data": {
      "text/plain": [
       "[['23538.00', '2220.00', '15775.00', '15162.00'],\n",
       " ['114.09', '140.69', '105.01', '152.43'],\n",
       " ['100.01', '106.68', '89.50', '115.21'],\n",
       " ['5.00', '11.00', '3.00', '15.00'],\n",
       " ['42.00', '65.00', '34.00', '56.25'],\n",
       " ['84.46', '110.00', '75.00', '120.00'],\n",
       " ['150.00', '190.00', '155.00', '225.00'],\n",
       " ['2000.00', '1150.00', '1160.00', '1600.00']]"
      ]
     },
     "execution_count": 254,
     "metadata": {},
     "output_type": "execute_result"
    }
   ],
   "source": [
    "cell_nums"
   ]
  },
  {
   "cell_type": "code",
   "execution_count": 202,
   "id": "intensive-herald",
   "metadata": {
    "scrolled": false
   },
   "outputs": [
    {
     "data": {
      "text/plain": [
       "<matplotlib.table.Table at 0x1d4b45ac7c0>"
      ]
     },
     "execution_count": 202,
     "metadata": {},
     "output_type": "execute_result"
    },
    {
     "data": {
      "image/png": "[encoded data removed]",
      "text/plain": [
       "<Figure size 1200x700 with 1 Axes>"
      ]
     },
     "metadata": {},
     "output_type": "display_data"
    }
   ],
   "source": [
    "fig, ax = matplotlib.pyplot.subplots(figsize=(12,7)) \n",
    "\n",
    "ax.set_axis_off()\n",
    "ax.axis('tight')\n",
    "ax.table(cellText=cell_nums,\n",
    "                      rowLabels=row_names,\n",
    "                      colLabels=col_names,\n",
    "                       loc = \"center\")"
   ]
  },
  {
   "cell_type": "markdown",
   "id": "curious-metallic",
   "metadata": {},
   "source": []
  }
 ],
 "metadata": {
  "kernelspec": {
   "display_name": "Python 3",
   "language": "python",
   "name": "python3"
  },
  "language_info": {
   "codemirror_mode": {
    "name": "ipython",
    "version": 3
   },
   "file_extension": ".py",
   "mimetype": "text/x-python",
   "name": "python",
   "nbconvert_exporter": "python",
   "pygments_lexer": "ipython3",
   "version": "3.9.2"
  },
  "toc": {
   "base_numbering": 1,
   "nav_menu": {},
   "number_sections": true,
   "sideBar": true,
   "skip_h1_title": true,
   "title_cell": "Table of Contents",
   "title_sidebar": "Contents",
   "toc_cell": false,
   "toc_position": {
    "height": "calc(100% - 180px)",
    "left": "10px",
    "top": "150px",
    "width": "206.094px"
   },
   "toc_section_display": true,
   "toc_window_display": true
  },
  "varInspector": {
   "cols": {
    "lenName": 16,
    "lenType": 16,
    "lenVar": 40
   },
   "kernels_config": {
    "python": {
     "delete_cmd_postfix": "",
     "delete_cmd_prefix": "del ",
     "library": "var_list.py",
     "varRefreshCmd": "print(var_dic_list())"
    },
    "r": {
     "delete_cmd_postfix": ") ",
     "delete_cmd_prefix": "rm(",
     "library": "var_list.r",
     "varRefreshCmd": "cat(var_dic_list()) "
    }
   },
   "types_to_exclude": [
    "module",
    "function",
    "builtin_function_or_method",
    "instance",
    "_Feature"
   ],
   "window_display": false
  }
 },
 "nbformat": 4,
 "nbformat_minor": 5
}
