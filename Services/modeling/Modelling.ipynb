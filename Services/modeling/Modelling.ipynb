{
 "cells": [
  {
   "cell_type": "markdown",
   "id": "japanese-journey",
   "metadata": {},
   "source": [
    "# Stat Models for Laboredge"
   ]
  },
  {
   "cell_type": "code",
   "execution_count": 2,
   "id": "personalized-slide",
   "metadata": {},
   "outputs": [],
   "source": [
    "import os\n",
    "import sys\n",
    "import re\n",
    "import inspect\n",
    "import pandas as pd\n",
    "import numpy as np\n",
    "import pickle"
   ]
  },
  {
   "cell_type": "markdown",
   "id": "advised-safety",
   "metadata": {},
   "source": [
    "Adding project folder to system path to import modules from Util folder"
   ]
  },
  {
   "cell_type": "code",
   "execution_count": 3,
   "id": "substantial-injection",
   "metadata": {},
   "outputs": [],
   "source": [
    "currentdir = os.path.dirname(os.path.abspath(inspect.getfile(inspect.currentframe())))\n",
    "util_dir = os.path.dirname(os.path.dirname(currentdir))\n",
    "\n",
    "sys.path.insert(0,util_dir)"
   ]
  },
  {
   "cell_type": "code",
   "execution_count": 4,
   "id": "operating-original",
   "metadata": {},
   "outputs": [],
   "source": [
    "from util import nlp, db"
   ]
  },
  {
   "cell_type": "markdown",
   "id": "framed-today",
   "metadata": {},
   "source": [
    "## Clustering Jobs"
   ]
  },
  {
   "cell_type": "markdown",
   "id": "confirmed-chapter",
   "metadata": {},
   "source": [
    "### Import Data"
   ]
  },
  {
   "cell_type": "code",
   "execution_count": 6,
   "id": "ahead-tumor",
   "metadata": {},
   "outputs": [],
   "source": [
    "conn = db.open_conn(is_prod=True)\n",
    "labor = db.get_table_pd(\"SELECT * FROM dbo.v_Services\", conn)"
   ]
  },
  {
   "cell_type": "code",
   "execution_count": 7,
   "id": "chemical-temperature",
   "metadata": {},
   "outputs": [],
   "source": [
    "labor = nlp.str_impute_lower(labor, labor.columns[labor.dtypes == 'string'])"
   ]
  },
  {
   "cell_type": "code",
   "execution_count": 8,
   "id": "monetary-basis",
   "metadata": {},
   "outputs": [],
   "source": [
    "with open('pickles/labor_pkl.txt', 'wb') as fh:\n",
    "    pickle.dump(labor, fh)"
   ]
  },
  {
   "cell_type": "code",
   "execution_count": 3,
   "id": "vocational-vanilla",
   "metadata": {},
   "outputs": [],
   "source": [
    "labor = pd.read_pickle('pickles/labor_pkl.txt')"
   ]
  },
  {
   "cell_type": "markdown",
   "id": "cooked-charter",
   "metadata": {},
   "source": [
    "### Supplier Tiers "
   ]
  },
  {
   "cell_type": "code",
   "execution_count": 17,
   "id": "passive-section",
   "metadata": {},
   "outputs": [],
   "source": [
    "sup_tier = pd.read_excel(\"tiers.xlsx\", sheet_name=\"std\")"
   ]
  },
  {
   "cell_type": "code",
   "execution_count": 27,
   "id": "sacred-output",
   "metadata": {},
   "outputs": [],
   "source": [
    "sup_tier.supplier = [s.lower() for s in sup_tier.supplier]"
   ]
  },
  {
   "cell_type": "code",
   "execution_count": 37,
   "id": "accompanied-commons",
   "metadata": {},
   "outputs": [
    {
     "data": {
      "text/plain": [
       "{'24/7.ai',\n",
       " '7summits',\n",
       " 'ab initio',\n",
       " 'abb software',\n",
       " 'accenture',\n",
       " 'accutive',\n",
       " 'aci worldwide',\n",
       " 'active cyber',\n",
       " 'adobe',\n",
       " 'adroit resources',\n",
       " 'adt',\n",
       " 'advent',\n",
       " 'aeritae',\n",
       " 'aftia solutions',\n",
       " 'agiloft',\n",
       " 'aim consulting',\n",
       " 'aipl holdings',\n",
       " 'alight',\n",
       " 'allegis global solutions',\n",
       " 'amazon',\n",
       " 'amida',\n",
       " 'anaplan',\n",
       " 'anark',\n",
       " 'anglepoint group',\n",
       " 'apex systems',\n",
       " 'appian',\n",
       " 'appirio',\n",
       " 'apple',\n",
       " 'appriss',\n",
       " 'aptos',\n",
       " 'arista',\n",
       " 'aronson',\n",
       " 'asmgi',\n",
       " 'aspire',\n",
       " 'assimilate consulting',\n",
       " 'asynchrony',\n",
       " 'at kearney',\n",
       " 'at&t',\n",
       " 'ataccama',\n",
       " 'atg',\n",
       " 'atos',\n",
       " 'atrium',\n",
       " 'atscale',\n",
       " 'audio visual innovations',\n",
       " 'audiocodes',\n",
       " 'avanade',\n",
       " 'avengers consulting group',\n",
       " 'aveva',\n",
       " 'avoka',\n",
       " 'axiom',\n",
       " 'axis technologies',\n",
       " 'backbase',\n",
       " 'bailiwick services',\n",
       " 'bamboo rose',\n",
       " 'bankmobile',\n",
       " 'banyan technology',\n",
       " 'basis one',\n",
       " 'basware',\n",
       " 'bayside resources',\n",
       " 'bdiplus',\n",
       " 'beeline',\n",
       " 'bishop fox',\n",
       " 'blackbox',\n",
       " 'blackhall and pearl',\n",
       " 'blue spire',\n",
       " 'blue yonder (jda)',\n",
       " 'bluefletch',\n",
       " 'blueraster',\n",
       " 'bmc',\n",
       " 'broadcom',\n",
       " 'c3.ai',\n",
       " 'ca',\n",
       " 'calabrio',\n",
       " 'caliber security partners',\n",
       " 'calypso',\n",
       " 'capgemini',\n",
       " 'capital rock',\n",
       " 'carpe datum',\n",
       " 'cdw',\n",
       " 'cedrus',\n",
       " 'centric consulting',\n",
       " 'cerner',\n",
       " 'change healthcare',\n",
       " 'check point software technologies',\n",
       " 'cheetah digital',\n",
       " 'cherwell',\n",
       " 'chi',\n",
       " 'ciphertechs',\n",
       " 'cisco',\n",
       " 'citrix',\n",
       " 'citrusbyte',\n",
       " 'clarabridge',\n",
       " 'clarip',\n",
       " 'clarkston-potomac group',\n",
       " 'clinch',\n",
       " 'cloudera',\n",
       " 'cloudreach',\n",
       " 'cognizant',\n",
       " 'collabnet versionone',\n",
       " 'collaborative solutions',\n",
       " 'collibra',\n",
       " 'commworks',\n",
       " 'computercare',\n",
       " 'concurrency',\n",
       " 'connectm',\n",
       " 'consilio',\n",
       " 'continuant',\n",
       " 'converge one',\n",
       " 'convergint technologies',\n",
       " 'coremedia',\n",
       " 'cotiviti',\n",
       " 'coveo',\n",
       " 'cprime',\n",
       " 'critical networks',\n",
       " 'crosscountry consulting',\n",
       " 'crossvale',\n",
       " 'crowdstrike',\n",
       " 'crowe',\n",
       " 'csra',\n",
       " 'curvature',\n",
       " 'dassault systemes',\n",
       " 'data migration resources',\n",
       " 'data trace information services',\n",
       " 'datastax',\n",
       " 'dayblink consulting',\n",
       " 'decisive data',\n",
       " 'dell emc',\n",
       " 'deloitte',\n",
       " 'direct source',\n",
       " 'docutech',\n",
       " 'dotcom',\n",
       " 'dotmodus',\n",
       " 'duff and phelps',\n",
       " 'dxc',\n",
       " 'dynasys',\n",
       " 'e2open',\n",
       " 'ebix',\n",
       " 'echostor',\n",
       " 'edgerock',\n",
       " 'emids',\n",
       " 'enactor',\n",
       " 'enterprise health',\n",
       " 'envista',\n",
       " 'epam systems',\n",
       " 'epi-use labs',\n",
       " 'epic',\n",
       " 'epiq',\n",
       " 'ernst & young',\n",
       " 'escalent',\n",
       " 'esker',\n",
       " 'ethany',\n",
       " 'f5',\n",
       " 'fairway technologies',\n",
       " 'fieldflex',\n",
       " 'finastra',\n",
       " 'fis',\n",
       " 'fiserv',\n",
       " 'flairsoft',\n",
       " 'flexera',\n",
       " 'flux7',\n",
       " 'formidable labs',\n",
       " 'fujitsu',\n",
       " 'gartner',\n",
       " 'gdt',\n",
       " 'general electric - ge',\n",
       " 'global relay',\n",
       " 'globallogic',\n",
       " 'google',\n",
       " 'gorilla logic',\n",
       " 'gp strategies',\n",
       " 'grant thornton',\n",
       " 'grid dynamics',\n",
       " 'gspann',\n",
       " 'guidepoint',\n",
       " 'guidewire',\n",
       " 'harvard partners',\n",
       " 'hashicorp',\n",
       " 'hcl',\n",
       " 'hewlett packard enterprise (hpe)',\n",
       " 'hexaware',\n",
       " 'hitachi data systems',\n",
       " 'honeywell',\n",
       " 'horizon consulting',\n",
       " 'htc global services',\n",
       " 'huron consulting',\n",
       " 'hyland',\n",
       " 'ibm',\n",
       " 'icertis',\n",
       " 'idea entity corporation',\n",
       " 'ignw',\n",
       " 'imanage',\n",
       " 'imidia',\n",
       " 'imperva',\n",
       " 'impetus',\n",
       " 'indecomm',\n",
       " 'inflexion advisors',\n",
       " 'infoblox',\n",
       " 'infor',\n",
       " 'informatica',\n",
       " 'information safeguard',\n",
       " 'infosys',\n",
       " 'inno4',\n",
       " 'innovyne',\n",
       " 'insight enterprises',\n",
       " 'insight global',\n",
       " 'insource',\n",
       " 'inspire11',\n",
       " 'intervision',\n",
       " 'intouch solutions',\n",
       " 'intraedge',\n",
       " 'ion trading solutions',\n",
       " 'iron mountain',\n",
       " 'isg',\n",
       " 'it convergence',\n",
       " 'itc infotech',\n",
       " 'itechart',\n",
       " 'kahua',\n",
       " 'kalles group',\n",
       " 'keste',\n",
       " 'kin+carta',\n",
       " 'kinaxis',\n",
       " 'kloud9',\n",
       " 'kpmg',\n",
       " 'kronos',\n",
       " 'learning administration services (las)',\n",
       " 'linium',\n",
       " 'link asi',\n",
       " 'logic20/20',\n",
       " 'lynx technology partners',\n",
       " 'manhattan associates',\n",
       " 'marlabs',\n",
       " 'mentor graphics',\n",
       " 'mercer',\n",
       " 'micro focus',\n",
       " 'microsoft',\n",
       " 'mindtree',\n",
       " 'model n',\n",
       " 'motorola',\n",
       " 'mphasis',\n",
       " 'mri contract staffing',\n",
       " 'mscripts',\n",
       " 'msg global',\n",
       " 'mu sigma inc.',\n",
       " 'mulesoft',\n",
       " 'multiple',\n",
       " 'my supply chain group',\n",
       " 'navigant consulting',\n",
       " 'navinet',\n",
       " 'navitec',\n",
       " 'ncc group',\n",
       " 'neo4j',\n",
       " 'net',\n",
       " 'netapp',\n",
       " 'netcom',\n",
       " 'netscout',\n",
       " 'netspi',\n",
       " 'nga human resources',\n",
       " 'none specified',\n",
       " 'nortal',\n",
       " 'ntt',\n",
       " 'nuance',\n",
       " 'nuvolo',\n",
       " 'nuxeo',\n",
       " 'o9 solutions',\n",
       " 'ocuco',\n",
       " 'okta',\n",
       " 'oneplan solutions',\n",
       " 'onestream software',\n",
       " 'online business systems',\n",
       " 'open technology solutions',\n",
       " 'opensymmetry',\n",
       " 'opentext',\n",
       " 'optimal',\n",
       " 'optiv',\n",
       " 'opus',\n",
       " 'oracle',\n",
       " 'ortec',\n",
       " 'osi digital',\n",
       " 'osisoft',\n",
       " 'pace america',\n",
       " 'palo alto',\n",
       " 'paradigm',\n",
       " 'patti engineering',\n",
       " 'pegasystems',\n",
       " 'peloton',\n",
       " 'perfaware',\n",
       " 'perficient',\n",
       " 'persistent systems',\n",
       " 'pivotal',\n",
       " 'pivotree',\n",
       " 'planisware',\n",
       " 'point b',\n",
       " 'practical data solutions',\n",
       " 'prelude',\n",
       " 'presidio',\n",
       " 'primetime technologies',\n",
       " 'prodigo',\n",
       " 'progresstech',\n",
       " 'projectcorps',\n",
       " 'proship',\n",
       " 'protiviti',\n",
       " 'ptc',\n",
       " 'pwc',\n",
       " 'quadient',\n",
       " 'quavo',\n",
       " 'randstad',\n",
       " 'red hat',\n",
       " 'redi2',\n",
       " 'rego consulting',\n",
       " 'revionics',\n",
       " 'revolutionary security',\n",
       " 'rocket software',\n",
       " 'roundtower',\n",
       " 'rs software',\n",
       " 'rsa',\n",
       " 'rti international',\n",
       " 'saama',\n",
       " 'saba software',\n",
       " 'safran',\n",
       " 'sailpoint',\n",
       " 'salesforce',\n",
       " 'salsify',\n",
       " 'sap',\n",
       " 'sapient',\n",
       " 'sas',\n",
       " 'sdl',\n",
       " 'service express',\n",
       " 'servicenow',\n",
       " 'sessionm',\n",
       " 'shl',\n",
       " 'siemens',\n",
       " 'silverline',\n",
       " 'sinequa',\n",
       " 'sirius',\n",
       " 'skillnet',\n",
       " 'slalom',\n",
       " 'softpro',\n",
       " 'softserve',\n",
       " 'software house international - shi',\n",
       " 'software quality associates',\n",
       " 'sogeti',\n",
       " 'solid technology',\n",
       " 'solstice',\n",
       " 'sparta systems',\n",
       " 'speakerbus',\n",
       " 'spencer technologies',\n",
       " 'splunk',\n",
       " 'square one advertising',\n",
       " 'stackpros',\n",
       " 'structureit',\n",
       " 'sycle',\n",
       " 'sycomp',\n",
       " 'symantec',\n",
       " 'syncsort',\n",
       " 'synpulse',\n",
       " 'tableau',\n",
       " 'talonx',\n",
       " 'tanium',\n",
       " 'tata america international',\n",
       " 'tavant',\n",
       " 'tax technologies',\n",
       " 'tcs',\n",
       " 'tech mahindra limited',\n",
       " 'techlink',\n",
       " 'technical services inc.',\n",
       " 'technossus',\n",
       " 'teksystems',\n",
       " 'temenos',\n",
       " 'teradata',\n",
       " 'the hackett group',\n",
       " 'the shelby group',\n",
       " 'thoughtfocus',\n",
       " 'threatmetrix',\n",
       " 'tibco',\n",
       " 'tieto',\n",
       " 'tjene',\n",
       " 'tobias consulting',\n",
       " 'tool group brookes',\n",
       " 'toptal',\n",
       " 'trace3',\n",
       " 'tredence',\n",
       " 'trevera',\n",
       " 'tricentis',\n",
       " 'tricomm services',\n",
       " 'trizetto',\n",
       " 'twelve',\n",
       " 'uipath',\n",
       " 'unisys',\n",
       " 'ust global',\n",
       " 'utegration',\n",
       " 'valorem',\n",
       " 'veridian',\n",
       " 'verint',\n",
       " 'veritas (symantec)',\n",
       " 'verizon',\n",
       " 'vertex inc',\n",
       " 'verys',\n",
       " 'virtusa',\n",
       " 'vistex, inc.',\n",
       " 'vitalyst',\n",
       " 'vmware',\n",
       " 'voicefoundry',\n",
       " 'volteo',\n",
       " 'w3r',\n",
       " 'west monroe',\n",
       " 'winmagic',\n",
       " 'wipro',\n",
       " 'wiredcraft limited',\n",
       " 'wolters kluwer',\n",
       " 'workday',\n",
       " 'workforce',\n",
       " 'workiva',\n",
       " 'wwt (var)',\n",
       " 'y media labs',\n",
       " 'yaana technologies',\n",
       " 'yantriks',\n",
       " 'yardi',\n",
       " 'yash technologies',\n",
       " 'zebra',\n",
       " 'zensar',\n",
       " 'zentest',\n",
       " 'zoolatech',\n",
       " 'zs associates'}"
      ]
     },
     "execution_count": 37,
     "metadata": {},
     "output_type": "execute_result"
    }
   ],
   "source": [
    "set(labor['service provider'])"
   ]
  },
  {
   "cell_type": "markdown",
   "id": "aboriginal-description",
   "metadata": {},
   "source": [
    "### Dummy Variables"
   ]
  },
  {
   "cell_type": "markdown",
   "id": "cubic-crisis",
   "metadata": {},
   "source": [
    "#### From Position Title"
   ]
  },
  {
   "cell_type": "code",
   "execution_count": 10,
   "id": "alien-tuner",
   "metadata": {},
   "outputs": [],
   "source": [
    "from sklearn.feature_extraction.text import CountVectorizer\n",
    "cv = CountVectorizer()\n",
    "X = cv.fit_transform(labor['full position title'])"
   ]
  },
  {
   "cell_type": "code",
   "execution_count": 11,
   "id": "spectacular-congo",
   "metadata": {},
   "outputs": [],
   "source": [
    "count_title = pd.DataFrame(data=X.todense(),columns=cv.get_feature_names())"
   ]
  },
  {
   "cell_type": "code",
   "execution_count": 10,
   "id": "african-rwanda",
   "metadata": {
    "scrolled": true
   },
   "outputs": [
    {
     "data": {
      "text/plain": [
       "Index(['level', 'senior', 'engineer', 'analyst', 'data', 'architect',\n",
       "       'manager', 'development', 'developer', 'lead', 'management',\n",
       "       'consultant', 'sr', 'business', 'junior', 'application', 'project',\n",
       "       'service', 'security', 'support', 'information', 'technical',\n",
       "       'engineering', 'jr', 'desktop', 'mid', 'infrastructure', 'analytics',\n",
       "       'virtual', 'software'],\n",
       "      dtype='object')"
      ]
     },
     "execution_count": 10,
     "metadata": {},
     "output_type": "execute_result"
    }
   ],
   "source": [
    "count_title.sum().nlargest(30).index"
   ]
  },
  {
   "cell_type": "code",
   "execution_count": 12,
   "id": "executive-granny",
   "metadata": {},
   "outputs": [],
   "source": [
    "title_dum = count_title.sum().nlargest(30).index"
   ]
  },
  {
   "cell_type": "code",
   "execution_count": 13,
   "id": "given-freeze",
   "metadata": {},
   "outputs": [],
   "source": [
    "for col in title_dum:\n",
    "    labor[col] = count_title[col]"
   ]
  },
  {
   "cell_type": "markdown",
   "id": "thrown-child",
   "metadata": {},
   "source": [
    "#### Country, OEM, Service Provider "
   ]
  },
  {
   "cell_type": "markdown",
   "id": "boxed-search",
   "metadata": {},
   "source": [
    "__ATTN__ : Leave out one Dummy variable for each category to avoid Colinearity of columns\n",
    "- country leave out blanks\n",
    "- supplier leave out first dummy (no blanks)"
   ]
  },
  {
   "cell_type": "code",
   "execution_count": 14,
   "id": "alpha-agency",
   "metadata": {},
   "outputs": [],
   "source": [
    "labor.country = labor.country.replace('usa ','usa')"
   ]
  },
  {
   "cell_type": "code",
   "execution_count": 15,
   "id": "posted-closer",
   "metadata": {},
   "outputs": [],
   "source": [
    "country_dum = pd.get_dummies(labor.country.replace('',np.nan))\n",
    "supplier_dum = pd.get_dummies(labor['service provider'])"
   ]
  },
  {
   "cell_type": "code",
   "execution_count": 16,
   "id": "interracial-delaware",
   "metadata": {},
   "outputs": [],
   "source": [
    "all_dum = pd.concat([labor[title_dum],country_dum,supplier_dum.iloc[:,1:]],axis=1)"
   ]
  },
  {
   "cell_type": "markdown",
   "id": "olive-whale",
   "metadata": {},
   "source": [
    "__Problem with using 'Full_Position_Title'__:\n",
    "- Term Frequency is not useful in short job titles. Varies widely\n",
    "- multiple variations of same word (sr, senior) count as different words\n",
    "- Stem of words better than lemmatization?"
   ]
  },
  {
   "cell_type": "markdown",
   "id": "structural-boxing",
   "metadata": {},
   "source": [
    "### Centering, Standardizing Price Quotes"
   ]
  },
  {
   "cell_type": "code",
   "execution_count": 17,
   "id": "orange-violin",
   "metadata": {},
   "outputs": [],
   "source": [
    "from sklearn.preprocessing import StandardScaler"
   ]
  },
  {
   "cell_type": "code",
   "execution_count": 18,
   "id": "recovered-chosen",
   "metadata": {},
   "outputs": [],
   "source": [
    "scaler = StandardScaler()"
   ]
  },
  {
   "cell_type": "code",
   "execution_count": 19,
   "id": "medical-pointer",
   "metadata": {},
   "outputs": [],
   "source": [
    "quoted_scaled =scaler.fit_transform(np.array(labor['quoted rate low']).reshape(-1,1)).reshape(len(labor))"
   ]
  },
  {
   "cell_type": "code",
   "execution_count": 20,
   "id": "prostate-footwear",
   "metadata": {},
   "outputs": [],
   "source": [
    "all_dum['quoted_low_scaled'] = quoted_scaled"
   ]
  },
  {
   "cell_type": "markdown",
   "id": "handy-spirit",
   "metadata": {},
   "source": [
    "### Clustering"
   ]
  },
  {
   "cell_type": "code",
   "execution_count": 21,
   "id": "offensive-shell",
   "metadata": {},
   "outputs": [],
   "source": [
    "from sklearn.cluster import KMeans\n",
    "from sklearn.mixture import GaussianMixture\n",
    "from sklearn.metrics import silhouette_score"
   ]
  },
  {
   "cell_type": "code",
   "execution_count": 22,
   "id": "apparent-communist",
   "metadata": {},
   "outputs": [],
   "source": [
    "def get_sil_scores(data, clusters):\n",
    "    sil_scores=[]\n",
    "    for n_clus in clusters:\n",
    "        km = KMeans(random_state=0,n_clusters=n_clus)\n",
    "        km.fit(data)\n",
    "        score = silhouette_score(data,km.labels_)\n",
    "        sil_scores.append(score)\n",
    "    return sil_scores"
   ]
  },
  {
   "cell_type": "code",
   "execution_count": 23,
   "id": "female-choir",
   "metadata": {},
   "outputs": [],
   "source": [
    "clusters =[7,8,9,10,11,12,13,14]"
   ]
  },
  {
   "cell_type": "code",
   "execution_count": 24,
   "id": "fleet-truth",
   "metadata": {},
   "outputs": [
    {
     "data": {
      "text/plain": [
       "[0.0989157485669578,\n",
       " 0.08952006001954503,\n",
       " 0.10073341531235155,\n",
       " 0.10541332090299978,\n",
       " 0.10631924957493091,\n",
       " 0.10628196075151089,\n",
       " 0.09786268595593967,\n",
       " 0.09373793175255977]"
      ]
     },
     "execution_count": 24,
     "metadata": {},
     "output_type": "execute_result"
    }
   ],
   "source": [
    "sil_scores = get_sil_scores(all_dum.dropna().values,[7,8,9,10,11,12,13,14])\n",
    "sil_scores"
   ]
  },
  {
   "cell_type": "code",
   "execution_count": 5,
   "id": "colonial-alberta",
   "metadata": {},
   "outputs": [],
   "source": [
    "with open('pickles/labor_pkl.txt', 'wb') as fh:\n",
    "   pickle.dump(labor, fh)"
   ]
  },
  {
   "cell_type": "code",
   "execution_count": 25,
   "id": "ranking-creativity",
   "metadata": {},
   "outputs": [],
   "source": [
    "import matplotlib.pyplot as plt"
   ]
  },
  {
   "cell_type": "code",
   "execution_count": 26,
   "id": "incredible-character",
   "metadata": {},
   "outputs": [
    {
     "data": {
      "image/png": "[encoded data removed]",
      "text/plain": [
       "<Figure size 432x288 with 1 Axes>"
      ]
     },
     "metadata": {
      "needs_background": "light"
     },
     "output_type": "display_data"
    }
   ],
   "source": [
    "plt.plot(clusters,sil_scores)\n",
    "plt.show()"
   ]
  },
  {
   "cell_type": "code",
   "execution_count": 99,
   "id": "durable-count",
   "metadata": {},
   "outputs": [
    {
     "data": {
      "text/plain": [
       "KMeans(n_clusters=20, random_state=0)"
      ]
     },
     "execution_count": 99,
     "metadata": {},
     "output_type": "execute_result"
    }
   ],
   "source": [
    "km = KMeans(random_state=0, n_clusters = 20)\n",
    "km.fit(all_dum.dropna().values)\n"
   ]
  },
  {
   "cell_type": "code",
   "execution_count": 100,
   "id": "polish-replication",
   "metadata": {
    "scrolled": true
   },
   "outputs": [
    {
     "data": {
      "text/plain": [
       "1     2772\n",
       "2     2568\n",
       "6     2426\n",
       "11    2414\n",
       "17    1502\n",
       "13    1372\n",
       "18    1099\n",
       "10    1094\n",
       "3      994\n",
       "0      925\n",
       "7      830\n",
       "15     814\n",
       "5      800\n",
       "9      798\n",
       "12     739\n",
       "14     677\n",
       "8      662\n",
       "4      604\n",
       "16     558\n",
       "19     194\n",
       "dtype: int64"
      ]
     },
     "execution_count": 100,
     "metadata": {},
     "output_type": "execute_result"
    }
   ],
   "source": [
    "pd.Series(km.labels_).value_counts()"
   ]
  },
  {
   "cell_type": "code",
   "execution_count": 101,
   "id": "corresponding-sustainability",
   "metadata": {},
   "outputs": [
    {
     "data": {
      "text/plain": [
       "0.10347873681898574"
      ]
     },
     "execution_count": 101,
     "metadata": {},
     "output_type": "execute_result"
    }
   ],
   "source": [
    "silhouette_score(all_dum.dropna().values, km.labels_)"
   ]
  },
  {
   "cell_type": "markdown",
   "id": "basic-invasion",
   "metadata": {},
   "source": [
    "__Next Steps:__\n",
    "- PCA for TFIDF Vectors\n",
    "    - No interpretability...\n",
    "- Normalize price columns\n",
    "- Set Dummy Variables\n",
    "- Find Cluster Alg\n",
    "- Silhouette Score"
   ]
  },
  {
   "cell_type": "code",
   "execution_count": 88,
   "id": "rolled-break",
   "metadata": {},
   "outputs": [
    {
     "name": "stdout",
     "output_type": "stream",
     "text": [
      "[0.23600809 0.0584846  0.04105878]\n"
     ]
    }
   ],
   "source": [
    "from sklearn.decomposition import PCA\n",
    "pca = PCA(n_components=3)\n",
    "pca.fit(all_dum.dropna().values)\n",
    "print(pca.explained_variance_ratio_)"
   ]
  }
 ],
 "metadata": {
  "kernelspec": {
   "display_name": "Python 3",
   "language": "python",
   "name": "python3"
  },
  "language_info": {
   "codemirror_mode": {
    "name": "ipython",
    "version": 3
   },
   "file_extension": ".py",
   "mimetype": "text/x-python",
   "name": "python",
   "nbconvert_exporter": "python",
   "pygments_lexer": "ipython3",
   "version": "3.9.2"
  },
  "toc": {
   "base_numbering": 1,
   "nav_menu": {
    "height": "11.9886px",
    "width": "160px"
   },
   "number_sections": true,
   "sideBar": true,
   "skip_h1_title": true,
   "title_cell": "Table of Contents",
   "title_sidebar": "Contents",
   "toc_cell": false,
   "toc_position": {},
   "toc_section_display": true,
   "toc_window_display": false
  },
  "varInspector": {
   "cols": {
    "lenName": 16,
    "lenType": 16,
    "lenVar": 40
   },
   "kernels_config": {
    "python": {
     "delete_cmd_postfix": "",
     "delete_cmd_prefix": "del ",
     "library": "var_list.py",
     "varRefreshCmd": "print(var_dic_list())"
    },
    "r": {
     "delete_cmd_postfix": ") ",
     "delete_cmd_prefix": "rm(",
     "library": "var_list.r",
     "varRefreshCmd": "cat(var_dic_list()) "
    }
   },
   "types_to_exclude": [
    "module",
    "function",
    "builtin_function_or_method",
    "instance",
    "_Feature"
   ],
   "window_display": false
  }
 },
 "nbformat": 4,
 "nbformat_minor": 5
}
